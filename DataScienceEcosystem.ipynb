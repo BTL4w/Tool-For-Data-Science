{
 "cells": [
  {
   "cell_type": "markdown",
   "id": "9619500d-3c2d-42f9-be23-ec92db79b1ae",
   "metadata": {},
   "source": [
    "# Data Science Tools and Ecosystem\n",
    "![2-title.png](https://i.ibb.co/9nkR5Jc/md.png)"
   ]
  },
  {
   "cell_type": "markdown",
   "id": "21d77ee4-2ab2-4f28-965e-536a33ed1e1e",
   "metadata": {
    "tags": []
   },
   "source": [
    "In this notebook, Data Science Tools and Ecosystem are summarized.\n",
    "![3-intro.png](https://i.ibb.co/StDR4Jx/Screenshot-2024-06-09-204511.png)"
   ]
  },
  {
   "cell_type": "markdown",
   "id": "b1d9f606-b693-4bff-ad09-ec6b53ad1da8",
   "metadata": {},
   "source": [
    "Some of the popular languages that Data Scientists use are:\n",
    "1. R\n",
    "2. Python\n",
    "3. Swift\n",
    "![4-dslanguages.png](https://i.ibb.co/8xrwtKQ/Screenshot-2024-06-09-205200.png)"
   ]
  },
  {
   "cell_type": "markdown",
   "id": "803ce3aa-50b0-4c5a-868b-8a55612f76dd",
   "metadata": {},
   "source": [
    "Some of the commonly used libraries used by Data Scientists include:\n",
    "1. Pandas\n",
    "2. NumPy\n",
    "3. Scikit-learn\n",
    "![5-dslibraries.png](https://i.ibb.co/kXgXBNY/Screenshot-2024-06-09-205358.png)"
   ]
  },
  {
   "cell_type": "markdown",
   "id": "b0b6fce6-313c-45d2-9b1d-148d470a2d41",
   "metadata": {},
   "source": [
    "|Data Science Tools|\n",
    "|---|\n",
    "|Jupyter NoteBook|\n",
    "|Rstudio|\n",
    "|VSCode|\n",
    "![6-dstools.png](https://i.ibb.co/1nJDMkB/Screenshot-2024-06-09-205746.png)"
   ]
  },
  {
   "cell_type": "markdown",
   "id": "0e608e0f-4e58-42f5-9366-ee9f5d4e6f1b",
   "metadata": {},
   "source": [
    "### Below are a few examples of evaluating arithmetic expressions in Python\n",
    "![7-introarithmetic.png](https://i.ibb.co/5krhvR4/Screenshot-2024-06-09-205849.png)"
   ]
  },
  {
   "cell_type": "code",
   "execution_count": 2,
   "id": "0cfc6246-3805-4266-918d-b4209431b284",
   "metadata": {
    "tags": []
   },
   "outputs": [
    {
     "data": {
      "text/plain": [
       "17"
      ]
     },
     "execution_count": 2,
     "metadata": {},
     "output_type": "execute_result"
    }
   ],
   "source": [
    "(3*4)+5\n",
    "#This a simple arithmetic expression to mutiply then add integer"
   ]
  },
  {
   "cell_type": "markdown",
   "id": "a38abc75-aa1f-4b2d-84a3-bee305aeea61",
   "metadata": {},
   "source": [
    "![8-multiplyandaddintegers.png](https://i.ibb.co/N6NffDW/Screenshot-2024-06-09-210058.png)"
   ]
  },
  {
   "cell_type": "code",
   "execution_count": 5,
   "id": "746178a1-15db-41ef-a58a-149ecdd615b1",
   "metadata": {},
   "outputs": [
    {
     "data": {
      "text/plain": [
       "3.3333333333333335"
      ]
     },
     "execution_count": 5,
     "metadata": {},
     "output_type": "execute_result"
    }
   ],
   "source": [
    "#This will convert 200 minutes to hours by diving by 60\n",
    "200/60"
   ]
  },
  {
   "cell_type": "markdown",
   "id": "eae4499d-7c63-4a77-a7df-1da713f764b3",
   "metadata": {
    "tags": []
   },
   "source": [
    "![9-hourstominutes.png](https://i.ibb.co/tcnJTDw/Screenshot-2024-06-09-211014.png)"
   ]
  },
  {
   "cell_type": "markdown",
   "id": "cb037409-2631-454a-98c4-716807307594",
   "metadata": {},
   "source": [
    "Objectives:\n",
    "* Python\n",
    "* Swift\n",
    "* R\n",
    "![10-objectives.png](https://i.ibb.co/FbVyhHQ/Screenshot-2024-06-09-211206.png)"
   ]
  },
  {
   "cell_type": "markdown",
   "id": "9f3ad41f-c5fb-4c75-9b75-88e95626fc29",
   "metadata": {},
   "source": [
    "## Author\n",
    "Lam Bui\n",
    "![11-authordetails.png](https://i.ibb.co/zbzbXpH/Screenshot-2024-06-09-211356.png)"
   ]
  },
  {
   "cell_type": "code",
   "execution_count": null,
   "id": "0bc94a4e-0193-4792-9a8f-ec61a1d41444",
   "metadata": {},
   "outputs": [],
   "source": []
  }
 ],
 "metadata": {
  "kernelspec": {
   "display_name": "Python",
   "language": "python",
   "name": "conda-env-python-py"
  },
  "language_info": {
   "codemirror_mode": {
    "name": "ipython",
    "version": 3
   },
   "file_extension": ".py",
   "mimetype": "text/x-python",
   "name": "python",
   "nbconvert_exporter": "python",
   "pygments_lexer": "ipython3",
   "version": "3.7.12"
  }
 },
 "nbformat": 4,
 "nbformat_minor": 5
}
